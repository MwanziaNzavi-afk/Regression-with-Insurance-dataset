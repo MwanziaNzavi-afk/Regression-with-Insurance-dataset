{
 "cells": [
  {
   "metadata": {
    "ExecuteTime": {
     "end_time": "2024-12-30T06:50:55.201067Z",
     "start_time": "2024-12-30T06:50:55.145275Z"
    }
   },
   "cell_type": "code",
   "source": [
    "# Load Required Libraries\n",
    "library(tidyverse)    # For data manipulation and visualization\n",
    "library(caret)        # For data splitting and machine learning\n",
    "library(randomForest) # For Random Forest model\n",
    "library(xgboost)      # For XGBoost model\n",
    "library(Metrics)      # For RMSLE calculation\n",
    "\n",
    "# Set File Paths\n",
    "train_path <- \"C:/Users/mwanz/OneDrive/Desktop/Regression with an Insurance Dataset/train.csv\"\n",
    "test_path <- \"C:/Users/mwanz/OneDrive/Desktop/Regression with an Insurance Dataset/test.csv\"\n",
    "submission_path <- \"C:/Users/mwanz/OneDrive/Desktop/Regression with an Insurance Dataset/sample_submission.csv\"\n",
    "\n",
    "# Load Datasets\n",
    "train_data <- read.csv(train_path)\n",
    "test_data <- read.csv(test_path)\n",
    "sample_submission <- read.csv(submission_path)\n",
    "\n",
    "# Data Exploration\n",
    "print(\"Structure of Train Data:\")\n",
    "str(train_data)\n",
    "\n",
    "print(\"Structure of Test Data:\")\n",
    "str(test_data)\n",
    "\n",
    "# Summary of the target variable\n",
    "summary(train_data$Premium.Amount)\n",
    "\n",
    "# Check for missing values\n",
    "cat(\"Missing values in Train Data:\\n\")\n",
    "print(colSums(is.na(train_data)))\n",
    "\n",
    "cat(\"Missing values in Test Data:\\n\")\n",
    "print(colSums(is.na(test_data)))\n",
    "\n",
    "# Visualize the Target Variable\n",
    "ggplot(train_data, aes(x = Premium.Amount)) +\n",
    "  geom_histogram(bins = 30, fill = \"blue\", color = \"white\") +\n",
    "  theme_minimal() +\n",
    "  labs(title = \"Distribution of Premium Amount\", x = \"Premium Amount\", y = \"Frequency\")\n",
    "\n",
    "# Log-transform the target variable\n",
    "train_data$LogPremium <- log1p(train_data$Premium.Amount)\n",
    "\n",
    "# Remove irrelevant columns (e.g., id)\n",
    "train_data <- train_data %>% select(-id)  # Ensure that 'id' column exists or replace with the actual column name\n",
    "test_data <- test_data %>% select(-id)  # Same as above, ensure 'id' column is available\n",
    "\n",
    "# Handle missing values (replace with mean for simplicity)\n",
    "# Fix: Apply missing value imputation correctly\n",
    "train_data[] <- lapply(train_data, function(x) ifelse(is.numeric(x), ifelse(is.na(x), mean(x, na.rm = TRUE), x), x))\n",
    "test_data[] <- lapply(test_data, function(x) ifelse(is.numeric(x), ifelse(is.na(x), mean(x, na.rm = TRUE), x), x))\n",
    "\n",
    "# Normalize numeric features\n",
    "numeric_features <- sapply(train_data, is.numeric)\n",
    "train_data[numeric_features] <- scale(train_data[numeric_features])\n",
    "test_data[numeric_features] <- scale(test_data[numeric_features])\n",
    "\n",
    "# Split train data into training and validation sets\n",
    "set.seed(123)\n",
    "train_index <- createDataPartition(train_data$LogPremium, p = 0.8, list = FALSE)\n",
    "train_set <- train_data[train_index, ]\n",
    "valid_set <- train_data[-train_index, ]\n",
    "\n",
    "# Define RMSLE function\n",
    "rmsle <- function(pred, actual) {\n",
    "  sqrt(mean((log1p(pred) - log1p(actual))^2))\n",
    "}\n",
    "\n",
    "# Train Random Forest Model\n",
    "rf_model <- randomForest(LogPremium ~ ., data = train_set, ntree = 100, mtry = 5)\n",
    "rf_predictions <- expm1(predict(rf_model, valid_set))\n",
    "rf_rmsle <- rmsle(rf_predictions, expm1(valid_set$LogPremium))\n",
    "\n",
    "# Train XGBoost Model\n",
    "xgb_model <- xgboost(data = as.matrix(train_set %>% select(-LogPremium)),\n",
    "                     label = train_set$LogPremium,\n",
    "                     nrounds = 100,\n",
    "                     objective = \"reg:squarederror\",\n",
    "                     verbose = 0)\n",
    "xgb_predictions <- expm1(predict(xgb_model, as.matrix(valid_set %>% select(-LogPremium))))\n",
    "xgb_rmsle <- rmsle(xgb_predictions, expm1(valid_set$LogPremium))\n",
    "\n",
    "# Compare RMSLE\n",
    "cat(\"Random Forest RMSLE:\", rf_rmsle, \"\\n\")\n",
    "cat(\"XGBoost RMSLE:\", xgb_rmsle, \"\\n\")\n",
    "\n",
    "# Generate predictions on the test set using the best model (e.g., Random Forest)\n",
    "test_predictions <- expm1(predict(rf_model, test_data))\n",
    "\n",
    "# Create submission file\n",
    "submission <- sample_submission\n",
    "submission$Premium.Amount <- test_predictions\n",
    "write.csv(submission, \"submission.csv\", row.names = FALSE)\n",
    "\n",
    "cat(\"Submission file created successfully as 'submission.csv'.\\n\")\n"
   ],
   "id": "575286d2415435fa",
   "outputs": [
    {
     "ename": "SyntaxError",
     "evalue": "invalid syntax (2519622523.py, line 26)",
     "output_type": "error",
     "traceback": [
      "\u001B[1;36m  Cell \u001B[1;32mIn[1], line 26\u001B[1;36m\u001B[0m\n\u001B[1;33m    summary(train_data$Premium.Amount)\u001B[0m\n\u001B[1;37m                      ^\u001B[0m\n\u001B[1;31mSyntaxError\u001B[0m\u001B[1;31m:\u001B[0m invalid syntax\n"
     ]
    }
   ],
   "execution_count": 1
  },
  {
   "metadata": {
    "ExecuteTime": {
     "end_time": "2024-12-29T17:17:25.910091Z",
     "start_time": "2024-12-29T17:17:25.900761Z"
    }
   },
   "cell_type": "code",
   "source": "",
   "id": "7cff6df5dfc96b6d",
   "outputs": [],
   "execution_count": null
  },
  {
   "metadata": {},
   "cell_type": "code",
   "outputs": [],
   "execution_count": null,
   "source": "",
   "id": "8e5045a13ce7128f"
  }
 ],
 "metadata": {
  "kernelspec": {
   "name": "python3",
   "language": "python",
   "display_name": "Python 3 (ipykernel)"
  }
 },
 "nbformat": 5,
 "nbformat_minor": 9
}
